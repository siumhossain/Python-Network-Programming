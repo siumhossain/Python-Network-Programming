{
 "cells": [
  {
   "cell_type": "markdown",
   "metadata": {},
   "source": [
    "***An introduction to TCP/IP networks***"
   ]
  },
  {
   "cell_type": "markdown",
   "metadata": {},
   "source": [
    "The Internet protocol suite, often referred to as TCP/IP, is a set of protocols\n",
    "designed to work together to provide end-to-end transmission of messages\n",
    "across interconnected networks."
   ]
  },
  {
   "cell_type": "markdown",
   "metadata": {},
   "source": [
    "**IP addresses<br>\n",
    "So, let's get started with something you're likely to be familiar with, that is,\n",
    "IP addresses. They typically look something like this:\n",
    "203.0.113.12\n",
    "They are actually a single 32-bit number, though they are usually written just\n",
    "like the number shown in the preceding example; they are written in the form of\n",
    "four decimal numbers that are separated by dots. The numbers are sometimes called\n",
    "octets or bytes because each one represents 8-bits of the 32-bit number. As such, each\n",
    "octet can only take values from 0 to 255, so valid IP addresses range from 0.0.0.0 to\n",
    "255.255.255.255. This way of writing IP addresses is called dot-decimal notation.**"
   ]
  },
  {
   "cell_type": "markdown",
   "metadata": {},
   "source": [
    "***If we run one of these commands, then we can see that the IP addresses are assigned\n",
    "to our device's network interfaces. On Linux, these will have names, such as eth0 ;\n",
    "on Windows these will have phrases, such as Ethernet adapter Local Area\n",
    "Connection .\n",
    "You will get the following output when you run the ip addr command on Linux:***\n"
   ]
  },
  {
   "cell_type": "markdown",
   "metadata": {},
   "source": [
    "$ ip addr"
   ]
  },
  {
   "cell_type": "markdown",
   "metadata": {},
   "source": [
    "**Packets** <br>\n",
    "Many protocols, including the principle protocols in the Internet protocol suite,\n",
    "employ a technique called packetization to help manage data while it's being\n",
    "transmitted across a network.\n",
    "When a packetizing protocol is given some data to transmit, it breaks it up into small\n",
    "units — sequences of bytes, typically a few thousand bytes long and then it prefixes\n",
    "each unit with some protocol-specific information. The prefix is called a header, and\n",
    "the prefix and data together form a packet. The data within a packet is often called\n",
    "its payload."
   ]
  },
  {
   "cell_type": "markdown",
   "metadata": {},
   "source": [
    "# Requests with urllib"
   ]
  },
  {
   "cell_type": "code",
   "execution_count": 6,
   "metadata": {},
   "outputs": [],
   "source": [
    "from urllib.request import urlopen"
   ]
  },
  {
   "cell_type": "code",
   "execution_count": 7,
   "metadata": {},
   "outputs": [],
   "source": [
    "response = urlopen('http://www.debian.org')\n"
   ]
  },
  {
   "cell_type": "code",
   "execution_count": 8,
   "metadata": {},
   "outputs": [
    {
     "data": {
      "text/plain": [
       "<http.client.HTTPResponse at 0x7fe855b8adc0>"
      ]
     },
     "execution_count": 8,
     "metadata": {},
     "output_type": "execute_result"
    }
   ],
   "source": [
    "response"
   ]
  },
  {
   "cell_type": "code",
   "execution_count": 9,
   "metadata": {},
   "outputs": [
    {
     "data": {
      "text/plain": [
       "b'<!DOCTYPE HTML PUBLIC \"-//W3C//DTD HTML 4.01//EN\" \"http://www.w3.org/TR/html4/strict.dtd\">\\n'"
      ]
     },
     "execution_count": 9,
     "metadata": {},
     "output_type": "execute_result"
    }
   ],
   "source": [
    "response.readline()"
   ]
  },
  {
   "cell_type": "markdown",
   "metadata": {},
   "source": [
    "We use the urllib.request.urlopen() function for sending a request and\n",
    "receiving a response for the resource at http://www.debian.org , in this case an\n",
    "HTML page. We will then print out the first line of the HTML we receive."
   ]
  },
  {
   "cell_type": "markdown",
   "metadata": {},
   "source": [
    "# Response objects"
   ]
  },
  {
   "cell_type": "code",
   "execution_count": 10,
   "metadata": {},
   "outputs": [
    {
     "data": {
      "text/plain": [
       "'https://www.debian.org/'"
      ]
     },
     "execution_count": 10,
     "metadata": {},
     "output_type": "execute_result"
    }
   ],
   "source": [
    "response.url"
   ]
  },
  {
   "cell_type": "code",
   "execution_count": 13,
   "metadata": {},
   "outputs": [
    {
     "data": {
      "text/plain": [
       "b'e>\\n  <link rel=\"author\" href=\"mailto:webmaster@debian.org\">\\n  <meta name=\"Description\" content=\"Debian is an operating system and a distribution of Free Software. It is maintained and updated through the work of many users who volunteer their time and effort.\">\\n  <meta name=\"Generator\" content=\"WML 2.12.2\">\\n  <meta name=\"Modified\" content=\"2020-09-10 23:27:16\">\\n  <meta name=\"viewport\" content=\"width=device-width\">\\n  <meta name=\"mobileoptimized\" content=\"300\">\\n  <meta name=\"HandheldFriendly\" cont'"
      ]
     },
     "execution_count": 13,
     "metadata": {},
     "output_type": "execute_result"
    }
   ],
   "source": [
    "response.read(500)"
   ]
  },
  {
   "cell_type": "markdown",
   "metadata": {},
   "source": [
    "### response first 500 bytes\n"
   ]
  },
  {
   "cell_type": "markdown",
   "metadata": {},
   "source": [
    "# Status codes"
   ]
  },
  {
   "cell_type": "markdown",
   "metadata": {},
   "source": [
    "## HTTP responses provide a means for us to do this through status codes. We can read\n",
    "the status code of a response by using its status attribute."
   ]
  },
  {
   "cell_type": "code",
   "execution_count": 14,
   "metadata": {},
   "outputs": [
    {
     "data": {
      "text/plain": [
       "200"
      ]
     },
     "execution_count": 14,
     "metadata": {},
     "output_type": "execute_result"
    }
   ],
   "source": [
    "response.status"
   ]
  },
  {
   "cell_type": "markdown",
   "metadata": {},
   "source": [
    "# status code\n",
    " * 100: Informational\n",
    "• 200: Success\n",
    "• 300: Redirection\n",
    "• 400: Client error\n",
    "• 500: Server error"
   ]
  },
  {
   "cell_type": "markdown",
   "metadata": {},
   "source": [
    "Know your cookies"
   ]
  },
  {
   "cell_type": "code",
   "execution_count": 22,
   "metadata": {},
   "outputs": [],
   "source": [
    "from http.cookiejar import CookieJar"
   ]
  },
  {
   "cell_type": "code",
   "execution_count": 23,
   "metadata": {},
   "outputs": [],
   "source": [
    "cookie_jar = CookieJar()"
   ]
  },
  {
   "cell_type": "code",
   "execution_count": 24,
   "metadata": {},
   "outputs": [],
   "source": [
    "from urllib.request import build_opener, HTTPCookieProcessor"
   ]
  },
  {
   "cell_type": "code",
   "execution_count": 25,
   "metadata": {},
   "outputs": [],
   "source": [
    "opener = build_opener(HTTPCookieProcessor(cookie_jar))"
   ]
  },
  {
   "cell_type": "code",
   "execution_count": 26,
   "metadata": {},
   "outputs": [
    {
     "data": {
      "text/plain": [
       "<http.client.HTTPResponse at 0x7fe8555da6a0>"
      ]
     },
     "execution_count": 26,
     "metadata": {},
     "output_type": "execute_result"
    }
   ],
   "source": [
    "opener.open('http://www.github.com')"
   ]
  },
  {
   "cell_type": "code",
   "execution_count": 27,
   "metadata": {},
   "outputs": [
    {
     "data": {
      "text/plain": [
       "3"
      ]
     },
     "execution_count": 27,
     "metadata": {},
     "output_type": "execute_result"
    }
   ],
   "source": [
    "len(cookie_jar)"
   ]
  },
  {
   "cell_type": "code",
   "execution_count": 28,
   "metadata": {},
   "outputs": [],
   "source": [
    "cookies = list(cookie_jar)"
   ]
  },
  {
   "cell_type": "code",
   "execution_count": 29,
   "metadata": {},
   "outputs": [
    {
     "data": {
      "text/plain": [
       "[Cookie(version=0, name='_octo', value='GH1.1.1466440542.1600110891', port=None, port_specified=False, domain='.github.com', domain_specified=True, domain_initial_dot=False, path='/', path_specified=True, secure=True, expires=1631646891, discard=False, comment=None, comment_url=None, rest={'SameSite': 'Lax'}, rfc2109=False),\n",
       " Cookie(version=0, name='logged_in', value='no', port=None, port_specified=False, domain='.github.com', domain_specified=True, domain_initial_dot=False, path='/', path_specified=True, secure=True, expires=1631646891, discard=False, comment=None, comment_url=None, rest={'HttpOnly': None, 'SameSite': 'Lax'}, rfc2109=False),\n",
       " Cookie(version=0, name='_gh_sess', value='pMM7NUJVgYPWTltAgysy8jRIhpKs9tbBTWWL4A34QLon6SjTQbpwyj0lNfLN8z4DF%2FtloeIfjTL0g9vxX2sNjdlI2jPaEDJ2EZwsnnfLoEuhafFN1YSkKM4LHfWbC7G709dmCztrKTpq6ONbPZj2CpgLBwqSrVvKV32CxO6efGbvdHfPQY49CWS1WUuUuodb7sMhekk%2FvDDkDjkZPmar2Hm4b9OzrrTa%2BwAk8AFKCgmNCKsUV8%2BvZYXJVHc34fJp8ee6ikbTyCn6UGcJEhGTKg%3D%3D--Jp2gAh6ggdSiLsTp--oYoS60s4flDIU8bcCLe7Mw%3D%3D', port=None, port_specified=False, domain='github.com', domain_specified=False, domain_initial_dot=False, path='/', path_specified=True, secure=True, expires=None, discard=True, comment=None, comment_url=None, rest={'HttpOnly': None, 'SameSite': 'Lax'}, rfc2109=False)]"
      ]
     },
     "execution_count": 29,
     "metadata": {},
     "output_type": "execute_result"
    }
   ],
   "source": [
    "cookies"
   ]
  },
  {
   "cell_type": "code",
   "execution_count": 30,
   "metadata": {},
   "outputs": [
    {
     "data": {
      "text/plain": [
       "'_octo'"
      ]
     },
     "execution_count": 30,
     "metadata": {},
     "output_type": "execute_result"
    }
   ],
   "source": [
    "cookies[0].name"
   ]
  },
  {
   "cell_type": "code",
   "execution_count": 32,
   "metadata": {},
   "outputs": [
    {
     "data": {
      "text/plain": [
       "'.github.com'"
      ]
     },
     "execution_count": 32,
     "metadata": {},
     "output_type": "execute_result"
    }
   ],
   "source": [
    "cookies[0].domain"
   ]
  },
  {
   "cell_type": "code",
   "execution_count": 33,
   "metadata": {},
   "outputs": [
    {
     "data": {
      "text/plain": [
       "'/'"
      ]
     },
     "execution_count": 33,
     "metadata": {},
     "output_type": "execute_result"
    }
   ],
   "source": [
    "cookies[0].path"
   ]
  },
  {
   "cell_type": "code",
   "execution_count": 34,
   "metadata": {},
   "outputs": [],
   "source": [
    "import datetime"
   ]
  },
  {
   "cell_type": "code",
   "execution_count": 35,
   "metadata": {},
   "outputs": [
    {
     "data": {
      "text/plain": [
       "datetime.datetime(2021, 9, 15, 1, 14, 51)"
      ]
     },
     "execution_count": 35,
     "metadata": {},
     "output_type": "execute_result"
    }
   ],
   "source": [
    "datetime.datetime.fromtimestamp(cookies[0].expires)"
   ]
  },
  {
   "cell_type": "markdown",
   "metadata": {},
   "source": [
    "So, our cookie will expire on 15th of April, 2035. An expiry date is the amount of\n",
    "time that the server would like the client to hold on to the cookie for. Once the\n",
    "expiry date has passed, the client can throw the cookie away and the server will\n",
    "send a new one with the next request. Of course, there's nothing to stop a client\n",
    "from immediately throwing the cookie away, though on some sites this may break\n",
    "functionality that depends on the cookie."
   ]
  },
  {
   "cell_type": "code",
   "execution_count": null,
   "metadata": {},
   "outputs": [],
   "source": []
  }
 ],
 "metadata": {
  "kernelspec": {
   "display_name": "Python 3",
   "language": "python",
   "name": "python3"
  },
  "language_info": {
   "codemirror_mode": {
    "name": "ipython",
    "version": 3
   },
   "file_extension": ".py",
   "mimetype": "text/x-python",
   "name": "python",
   "nbconvert_exporter": "python",
   "pygments_lexer": "ipython3",
   "version": "3.8.2"
  }
 },
 "nbformat": 4,
 "nbformat_minor": 4
}
